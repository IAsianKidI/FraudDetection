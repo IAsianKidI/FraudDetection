{
  "cells": [
    {
      "cell_type": "code",
      "execution_count": 30,
      "metadata": {
        "id": "EACeCV3HMTZt"
      },
      "outputs": [],
      "source": [
        "#authors: Fidel Ngo, Jamia Jackson, Rene Lisasi\n",
        "#Fraud Detection\n",
        "#Machine Learning"
      ]
    },
    {
      "cell_type": "code",
      "execution_count": 31,
      "metadata": {
        "colab": {
          "base_uri": "https://localhost:8080/"
        },
        "id": "7GAk-Oc0MTZ3",
        "outputId": "48b6c227-39e3-4006-d823-a0f8c82c2922"
      },
      "outputs": [],
      "source": [
        "import pandas as pd\n",
        "import numpy as np\n",
        "import time\n",
        "import itertools\n",
        "\n",
        "from sklearn.preprocessing import StandardScaler\n",
        "from sklearn.model_selection import train_test_split\n",
        "from sklearn import datasets\n",
        "from sklearn.metrics import accuracy_score, f1_score, confusion_matrix, ConfusionMatrixDisplay\n",
        "from sklearn.ensemble import RandomForestRegressor\n",
        "\n",
        "from keras.models import Sequential\n",
        "from keras.layers import LSTM, Dense, Bidirectional, Dropout\n",
        "\n",
        "import tensorflow as tf\n",
        "from tensorflow import keras\n",
        "from tensorflow.keras.optimizers import AdamW\n",
        "from tensorflow.keras.callbacks import EarlyStopping, Callback\n",
        "from tensorflow.keras import layers, models\n",
        "from tensorflow.keras.models import Sequential\n",
        "from tensorflow.keras.layers import LSTM, Dense\n",
        "\n",
        "import matplotlib.pyplot as plt\n",
        "\n",
        "from google.colab import drive\n",
        "drive.mount('/content/drive')"
      ]
    },
    {
      "cell_type": "code",
      "execution_count": 32,
      "metadata": {
        "colab": {
          "base_uri": "https://localhost:8080/",
          "height": 375
        },
        "id": "kHHFdpihMTZ1",
        "outputId": "7b5353b0-cc5c-48a7-bfbf-3ead4166b125"
      },
      "outputs": [],
      "source": [
        "def get_data(filename):\n",
        "    df = pd.read_csv(filename)\n",
        "    x = df.drop(columns=['merchant','first','last','gender','street','city','state','zip','job','dob','trans_num','unix_time','trans_date_trans_time','cc_num'])\n",
        "    # y = df['is_fraud']\n",
        "    dataset=x\n",
        "    # dataset = np.column_stack((x, y))\n",
        "    #np.random.shuffle(dataset)\n",
        "    # Split data\n",
        "    train_size = int(0.7 * len(dataset))\n",
        "    train_dataset, test_dataset = dataset[:train_size], dataset[train_size:]\n",
        "    #features\n",
        "    train_dataset=np.delete(train_dataset,0,axis=1)\n",
        "    test_dataset=np.delete(test_dataset,0,axis=1)\n",
        "    #targets\n",
        "    train_target=train_dataset[:,7]\n",
        "    test_target=test_dataset[:,7]\n",
        "\n",
        "    train_dataset=np.delete(train_dataset,7,axis=1)\n",
        "    test_dataset=np.delete(test_dataset,7,axis=1)\n",
        "\n",
        "    return train_dataset, test_dataset, train_target, test_target\n",
        "\n",
        "#output get_data\n",
        "#train_sample,test_sample,train_target,test_target=get_data('fraudTrain_shuffled.csv')\n",
        "#output get_data\n",
        "train_sample,test_sample,train_target,test_target=get_data('fraudTrain_shuffled.csv')\n",
        "\n",
        "scaler = StandardScaler()\n",
        "\n",
        "train_sample_scaled = scaler.fit_transform(train_sample)\n",
        "test_sample_scaled = scaler.transform(test_sample)\n",
        "\n",
        "# reshape so it can match the input shape of the model\n",
        "X_train_reshaped = np.reshape(train_sample_scaled, (train_sample_scaled.shape[0], 1, train_sample_scaled.shape[1]))\n",
        "X_test_reshaped = np.reshape(test_sample_scaled, (test_sample_scaled.shape[0], 1, test_sample_scaled.shape[1]))\n"
      ]
    },
    {
      "cell_type": "markdown",
      "metadata": {
        "id": "MqMCOaNQMTZw"
      },
      "source": [
        "Feed Forward Neural Network"
      ]
    },
    {
      "cell_type": "code",
      "execution_count": 57,
      "metadata": {
        "id": "3HEs552QMTZx"
      },
      "outputs": [],
      "source": [
        "# Feedforward Neural Network\n",
        "class FNN():\n",
        "  # this method is a constructor and is used to create an instance of the feedforward neural network model containing the training data\n",
        "  # parameters\n",
        "  # learning_rate: this contains a float which is used to change how big of a jump the data will make\n",
        "  # epoch: this contains a integer which is used to repeat the training epoch times\n",
        "  # x: this contains the training dataset examples\n",
        "  # y: this contains the training dataset answers\n",
        "  def __init__(self, learning_rate, epoch, x, y):\n",
        "    self.learning_rate = learning_rate\n",
        "    self.epoch = epoch\n",
        "    self.x = x\n",
        "    self.y = y\n",
        "    self.number_data, self.number_feature = x.shape\n",
        "    self.input_weights = np.zeros((self.number_feature, 4))\n",
        "    self.bias = 1\n",
        "    self.bias_hidden = 1\n",
        "    self.bias_output = 1\n",
        "    self.hidden_weights = np.zeros(4)\n",
        "    self.hidden_weights2 = np.zeros((4, 4))\n",
        "    self.TP = 0\n",
        "    self.FP = 0\n",
        "    self.TN = 0\n",
        "    self.FN = 0\n",
        "\n",
        "  # this method is used for back propagation\n",
        "  # parameters\n",
        "  # input_hidden2: this contains an array that contains the input to hidden values but with relu applied to it\n",
        "  # hidden2_hidden: this contains an array that contains the hidden to hidden values but with relu applied to it\n",
        "  # output_output: this contains an array that contains the hidden to output values but with sigmoid applied to it\n",
        "  def backward_pass(self, input_hidden2, hidden2_hidden,hidden_output):\n",
        "    # Calculate errors\n",
        "    # x\n",
        "    output_error = hidden_output - self.y\n",
        "    # x by 4\n",
        "    hidden_error = np.outer(output_error, self.hidden_weights)\n",
        "    # x by 4\n",
        "    hidden_error2 = np.dot(hidden_error, self.hidden_weights2)\n",
        "\n",
        "    # Calculating gradients. x by 4\n",
        "    output_weights_gradient = (1/self.number_data) * np.dot(hidden2_hidden.T, output_error)\n",
        "    output_grad_bias = (1/self.number_data) * np.sum(output_error)\n",
        "\n",
        "    # x by 4\n",
        "    hidden_weights_gradient = (1/self.number_data) * np.dot(input_hidden2.T, hidden_error)\n",
        "    hidden_grad_bias = (1/self.number_data) * np.sum(hidden_error)\n",
        "\n",
        "    # 4 by features\n",
        "    hidden_weights_gradient2 = (1/self.number_data) * np.dot(self.x.T, hidden_error2)\n",
        "    hidden_grad_bias2 = (1/self.number_data) * np.sum(hidden_error2)\n",
        "\n",
        "    # Updating weights and biases\n",
        "    self.hidden_weights -= self.learning_rate * output_weights_gradient\n",
        "    self.bias_output -= self.learning_rate * output_grad_bias\n",
        "\n",
        "    self.hidden_weights2 -= self.learning_rate * hidden_weights_gradient\n",
        "    self.bias_hidden -= self.learning_rate * hidden_grad_bias\n",
        "\n",
        "    self.input_weights -= self.learning_rate * hidden_weights_gradient2\n",
        "    self.bias -= self.learning_rate * hidden_grad_bias2\n",
        "\n",
        "\n",
        "  # trains the model\n",
        "  def fit(self):\n",
        "    for p in range(self.epoch):\n",
        "\n",
        "      # input to hidden. x by 4\n",
        "      hidden_input = np.dot(self.x, self.input_weights) + self.bias\n",
        "      # x by 4\n",
        "      relu_activation = np.maximum(0, hidden_input)\n",
        "\n",
        "      # hidden2 to hidden. x by 4\n",
        "      hidden_input2 = np.dot(relu_activation, self.hidden_weights2) + self.bias_hidden\n",
        "      # x by 4\n",
        "      relu_activation2 = 1 / (1 + np.exp(-hidden_input2))\n",
        "\n",
        "      # hidden to output using sigmoid since it is a binary classification. x\n",
        "      output_hidden = np.dot(relu_activation2, self.hidden_weights) + self.bias_output\n",
        "      # x\n",
        "      Sigmoid = 1 / (1 + np.exp(-output_hidden))\n",
        "      # gradiants\n",
        "      self.backward_pass(relu_activation, relu_activation2, Sigmoid)\n",
        "\n",
        "\n",
        "  # finds the accuracy with the testing dataset\n",
        "  # parameters\n",
        "  # x_test: contains the testing dataset examples\n",
        "  # y_test: contains the testing dataset answers\n",
        "  def accuracy(self, x_test, y_test):\n",
        "    # calculate the outputs\n",
        "    hidden_input = np.dot(x_test, self.input_weights) + self.bias\n",
        "    relu_activation = np.maximum(0, hidden_input)\n",
        "\n",
        "    # hidden2 to hidden. x by 4\n",
        "    hidden_input2 = np.dot(relu_activation, self.hidden_weights2) + self.bias_hidden\n",
        "    # x by 4\n",
        "    relu_activation2 = 1 / (1 + np.exp(-hidden_input2))\n",
        "\n",
        "    # hidden to output\n",
        "    output_hidden = np.dot(relu_activation2, self.hidden_weights) + self.bias_output\n",
        "    Sigmoid = 1 / (1 + np.exp(-output_hidden))\n",
        "\n",
        "    Is_Fraud = 0\n",
        "    for i in range(len(y_test)):\n",
        "      if y_test[i] == 1:\n",
        "        Is_Fraud += 1\n",
        "\n",
        "    print(Is_Fraud)\n",
        "    accuracy = 0\n",
        "    # finds accuracy\n",
        "    for i in range(len(Sigmoid)):\n",
        "      # uses the threshold to determine if it is 1 or 0\n",
        "      if Sigmoid[i] > .5:\n",
        "        # checks if the guess was correct, if it was increment by 1\n",
        "        if y_test[i] == 1:\n",
        "          accuracy += 1\n",
        "          self.TP += 1\n",
        "        else:\n",
        "          self.FP += 1\n",
        "      else:\n",
        "        # checks if the guess was correct, if it was increment by 1\n",
        "        if y_test[i] == 0:\n",
        "          accuracy += 1\n",
        "          self.TN += 1\n",
        "        else:\n",
        "          self.FN += 1\n",
        "    f1 = self.TP / (self.TP + ((1/2) * (self.FP + self.FN)))\n",
        "    accuracy=(accuracy / len(y_test)) * 100, f1\n",
        "    # returns the percentage\n",
        "    return accuracy\n",
        "\n",
        "  def confuse_ff(self, title):\n",
        "    #get predictions\n",
        "    # predict=model.predict(test_features)\n",
        "    labels = [\"1\", \"0\"]\n",
        "    #build confusion matrix grid\n",
        "    cm = np.array([[self.TP, self.FP],[self.FN, self.TN]])\n",
        "    #represent the matrix on a plane\n",
        "    cmd = ConfusionMatrixDisplay(confusion_matrix=cm, display_labels=labels)\n",
        "    #plot the plane\n",
        "    cmd.plot(cmap=plt.cm.Blues)\n",
        "    cmd.ax_.set_title(f'{title} Confusion Matrix')\n",
        "    plt.show()"
      ]
    },
    {
      "cell_type": "code",
      "execution_count": 58,
      "metadata": {
        "colab": {
          "base_uri": "https://localhost:8080/",
          "height": 382
        },
        "id": "ey63AHvvMTZz",
        "outputId": "a560db88-d530-4c04-c284-461d3435d6f5"
      },
      "outputs": [
        {
          "name": "stdout",
          "output_type": "stream",
          "text": [
            "-----------------------------------FNN-----------------------------------\n",
            "1816\n",
            "Accuracy: (72.47502774694784, 0.6325925925925926)\n"
          ]
        },
        {
          "data": {
            "image/png": "[encoded data removed]",
            "text/plain": [
              "<Figure size 640x480 with 2 Axes>"
            ]
          },
          "metadata": {},
          "output_type": "display_data"
        }
      ],
      "source": [
        "scaler = StandardScaler()\n",
        "\n",
        "#output get_data\n",
        "train_sample,test_sample,train_target,test_target=get_data('fraudTrain_shuffled.csv')\n",
        "\n",
        "train_sample_scaled = scaler.fit_transform(train_sample)\n",
        "test_sample_scaled = scaler.transform(test_sample)\n",
        "\n",
        "# Feedforward Neural Networks running\n",
        "print(\"-----------------------------------FNN-----------------------------------\")\n",
        "Feedforward_Neural_Network = FNN(0.01, 1000, train_sample_scaled, train_target)\n",
        "Feedforward_Neural_Network.fit()\n",
        "accuracy=Feedforward_Neural_Network.accuracy(test_sample_scaled, test_target)\n",
        "print(\"Accuracy:\",accuracy)\n",
        "Feedforward_Neural_Network.confuse_ff('Small Epoch Feedforward')"
      ]
    },
    {
      "cell_type": "code",
      "execution_count": 60,
      "metadata": {
        "id": "GsboGKrwMTZ0"
      },
      "outputs": [],
      "source": [
        "# this method will save the weights of the model into a python file\n",
        "# def saveWeights(self):\n",
        "#     # this is a data type that stores key pair values so it stores w1 with the w1 weights\n",
        "#     save = {\n",
        "#         \"w1\": self.w1,\n",
        "#         \"w2\": self.w2\n",
        "#     }\n",
        "\n",
        "#     # opens the json file in write mode and closes it when finished\n",
        "#     with open(\"save.json\", \"w\") as f:\n",
        "#         # stores save in the json file\n",
        "#         json.dump(save, f)\n",
        "\n",
        "\n",
        "# # this method will load the weights of the model into the code\n",
        "# def loadWeights(self):\n",
        "#     # opens the json file in read mode and closes it when finished\n",
        "#     with open(\"save.json\", \"r\") as f:\n",
        "#         # loads what is stored in the json file into the save\n",
        "#         save = json.load(f)\n",
        "#         # set the weights stored in save\n",
        "#         self.w1 = save[\"w1\"]\n",
        "#         self.w2 = save[\"w2\"]\n",
        "def confuse(test_features,test_target,title):\n",
        "    #get predictions\n",
        "    predict=model.predict(test_features)\n",
        "    y_pred = np.where(predict > 0.5, 1, 0).flatten()\n",
        "    y_test = test_target\n",
        "    labels = [\"1\", \"0\"]\n",
        "    #build confusion matrix grid\n",
        "    cm = confusion_matrix(y_test, y_pred)\n",
        "    #represent the matrix on a plane\n",
        "    cmd = ConfusionMatrixDisplay(confusion_matrix=cm, display_labels=labels)\n",
        "    #plot the plane\n",
        "    cmd.plot(cmap=plt.cm.Blues)\n",
        "    cmd.ax_.set_title(f'{title} Confusion Matrix')\n",
        "    plt.show()\n",
        "\n",
        "def confuse_without_predict(test_features,test_target,title):\n",
        "    y_pred = np.where(test_features > 0.5, 1, 0).flatten()\n",
        "    y_test = test_target\n",
        "    labels = [\"1\", \"0\"]\n",
        "    #build confusion matrix grid\n",
        "    cm = confusion_matrix(y_test, y_pred)\n",
        "    #represent the matrix on a plane\n",
        "    cmd = ConfusionMatrixDisplay(confusion_matrix=cm, display_labels=labels)\n",
        "    #plot the plane\n",
        "    cmd.plot(cmap=plt.cm.Blues)\n",
        "    cmd.ax_.set_title(f'{title} Confusion Matrix')\n",
        "    plt.show()"
      ]
    },
    {
      "cell_type": "markdown",
      "metadata": {
        "id": "n140GztBMTZ1"
      },
      "source": [
        "LSTM"
      ]
    },
    {
      "cell_type": "code",
      "execution_count": 61,
      "metadata": {
        "id": "S3mpM9R_MTZ2",
        "outputId": "6eba471a-df1d-43bb-e45e-7c5d74093723"
      },
      "outputs": [
        {
          "name": "stdout",
          "output_type": "stream",
          "text": [
            "Epoch 1/10\n",
            "9/9 - 2s - loss: 0.5378 - accuracy: 0.4948 - 2s/epoch - 207ms/step\n",
            "Epoch 2/10\n",
            "9/9 - 0s - loss: 0.5113 - accuracy: 0.4952 - 18ms/epoch - 2ms/step\n",
            "Epoch 3/10\n",
            "9/9 - 0s - loss: 0.4863 - accuracy: 0.4939 - 19ms/epoch - 2ms/step\n",
            "Epoch 4/10\n",
            "9/9 - 0s - loss: 0.4631 - accuracy: 0.4937 - 19ms/epoch - 2ms/step\n",
            "Epoch 5/10\n",
            "9/9 - 0s - loss: 0.4414 - accuracy: 0.4931 - 19ms/epoch - 2ms/step\n",
            "Epoch 6/10\n",
            "9/9 - 0s - loss: 0.4213 - accuracy: 0.4950 - 20ms/epoch - 2ms/step\n",
            "Epoch 7/10\n",
            "9/9 - 0s - loss: 0.4025 - accuracy: 0.4966 - 20ms/epoch - 2ms/step\n",
            "Epoch 8/10\n",
            "9/9 - 0s - loss: 0.3847 - accuracy: 0.4994 - 18ms/epoch - 2ms/step\n",
            "Epoch 9/10\n",
            "9/9 - 0s - loss: 0.3681 - accuracy: 0.5018 - 20ms/epoch - 2ms/step\n",
            "Epoch 10/10\n",
            "9/9 - 0s - loss: 0.3525 - accuracy: 0.5065 - 18ms/epoch - 2ms/step\n",
            "113/113 [==============================] - 0s 1ms/step - loss: 0.3520 - accuracy: 0.4892\n"
          ]
        }
      ],
      "source": [
        "# creates the model\n",
        "model = Sequential()\n",
        "model.add(LSTM(4))\n",
        "model.add(Dense(1))\n",
        "\n",
        "# compiles the model\n",
        "model.compile(optimizer='adam', loss='mean_squared_error',metrics=['accuracy'])\n",
        "\n",
        "# trains the model\n",
        "history = model.fit(X_train_reshaped, train_target, epochs=10, verbose=2,batch_size=1000)\n",
        "\n",
        "# evaluates the model\n",
        "loss = model.evaluate(X_test_reshaped, test_target)"
      ]
    },
    {
      "cell_type": "code",
      "execution_count": 62,
      "metadata": {
        "id": "4AO9nlqjMTZ2",
        "outputId": "b53626ac-c0f0-4090-b4c9-65082ecc19b8"
      },
      "outputs": [
        {
          "name": "stdout",
          "output_type": "stream",
          "text": [
            "113/113 [==============================] - 0s 982us/step\n"
          ]
        },
        {
          "data": {
            "image/png": "[encoded data removed]",
            "text/plain": [
              "<Figure size 640x480 with 2 Axes>"
            ]
          },
          "metadata": {},
          "output_type": "display_data"
        }
      ],
      "source": [
        "#lstm prediction\n",
        "lstm_pred=model.predict(X_test_reshaped)\n",
        "confuse_without_predict(lstm_pred,test_target,'LSTM Big Epoch')"
      ]
    },
    {
      "cell_type": "markdown",
      "metadata": {
        "id": "sqUsFXNRMTZ3"
      },
      "source": [
        "RANDOM FOREST"
      ]
    },
    {
      "cell_type": "code",
      "execution_count": 63,
      "metadata": {
        "id": "LYKRKG5eMTZ3"
      },
      "outputs": [],
      "source": [
        "scaler = StandardScaler()\n",
        "train_sample_scaled = scaler.fit_transform(train_sample)\n",
        "test_sample_scaled = scaler.transform(test_sample)"
      ]
    },
    {
      "cell_type": "code",
      "execution_count": 68,
      "metadata": {
        "id": "7tpXzYcpMTZ3"
      },
      "outputs": [
        {
          "name": "stdout",
          "output_type": "stream",
          "text": [
            "Accuracy: 95.53274139844618\n",
            "F1_Score: 0.9553216317532697\n"
          ]
        },
        {
          "data": {
            "image/png": "[encoded data removed]",
            "text/plain": [
              "<Figure size 640x480 with 2 Axes>"
            ]
          },
          "metadata": {},
          "output_type": "display_data"
        }
      ],
      "source": [
        "# Instantiate model with 1000 decision trees\n",
        "rf = RandomForestRegressor(n_estimators = 10, random_state = 42)\n",
        "# Train the model on training data\n",
        "rf.fit(train_sample_scaled, train_target)\n",
        "rf_predictions = rf.predict(test_sample_scaled)\n",
        "threshold = 0.5\n",
        "y_pred = [1 if pred >= threshold else 0 for pred in rf_predictions]\n",
        "accuracy = 0\n",
        "# finds accuracy\n",
        "for i in range(len(y_pred)):\n",
        "  # uses the threshold to determine if it is 1 or 0\n",
        "  if y_pred[i] > .5:\n",
        "    # checks if the guess was correct, if it was increment by 1\n",
        "    if test_target[i] == 1:\n",
        "      accuracy += 1\n",
        "  else:\n",
        "    # checks if the guess was correct, if it was increment by 1\n",
        "    if test_target[i] == 0:\n",
        "      accuracy += 1\n",
        "\n",
        "accuracy = (accuracy / len(test_target)) * 100\n",
        "\n",
        "print(\"Accuracy:\", accuracy)\n",
        "\n",
        "from sklearn.metrics import f1_score\n",
        "import tensorflow as tf\n",
        "# y_pred = tf.argmax(rf.predict(test_sample_scaled), axis=1)\n",
        "print(\"F1_Score:\",f1_score(test_target, y_pred, average='macro'))\n",
        "\n",
        "confuse_without_predict(rf_predictions,test_target,\"Small Epoch Random Forest\")"
      ]
    },
    {
      "cell_type": "markdown",
      "metadata": {
        "id": "bQvklsX6MTZ3"
      },
      "source": [
        "CNN+LSTM"
      ]
    },
    {
      "cell_type": "code",
      "execution_count": 69,
      "metadata": {
        "id": "NdAnj5TCMTZ4",
        "outputId": "e8df5383-649b-49fc-bd70-997394f7818c"
      },
      "outputs": [
        {
          "name": "stdout",
          "output_type": "stream",
          "text": [
            "Index(['category', 'amt', 'lat', 'long', 'city_pop', 'merch_lat', 'merch_long',\n",
            "       'Unnamed: 23'],\n",
            "      dtype='object')\n",
            "[ 1.2000000e+01  9.8884000e+02  3.6024400e+01 -9.0928800e+01\n",
            "  7.1550000e+03  3.5399805e+01 -9.1064403e+01  4.7067373e-01] label 1\n",
            "trainfeatures 8408 8\n",
            "(8408, 8, 1) (3604, 8, 1) (8408,) (3604,)\n",
            "8\n"
          ]
        }
      ],
      "source": [
        "class PrintShape(tf.keras.layers.Layer):\n",
        "  def call(self,inputs):\n",
        "    print(inputs.shape)\n",
        "    return inputs\n",
        "\n",
        "data = pd.read_csv('fraudTrain_shuffled.csv')\n",
        "data = pd.DataFrame(data)\n",
        "y = data['is_fraud']\n",
        "x = data.drop(columns=['is_fraud','index','merchant','first','last','gender','street','city','state','zip','job','dob','trans_num','unix_time','trans_date_trans_time','cc_num'])\n",
        "print(x.columns)\n",
        "features = x.values\n",
        "labels = y.values\n",
        "print(features[0],'label',labels[0])\n",
        "\n",
        "trainFeatures, testFeatures, trainLabels, testLabels = train_test_split(features, labels, test_size=0.3, random_state=42,shuffle=True)\n",
        "\n",
        "q, x = trainFeatures.shape\n",
        "print('trainfeatures',q,x)\n",
        "scaler = StandardScaler()\n",
        "trainFeatures = scaler.fit_transform(trainFeatures)\n",
        "testFeatures = scaler.fit_transform(testFeatures)\n",
        "\n",
        "\n",
        "trainFeatures = trainFeatures.reshape(trainFeatures.shape[0], trainFeatures.shape[1], 1)\n",
        "testFeatures = testFeatures.reshape(testFeatures.shape[0], testFeatures.shape[1], 1)\n",
        "\n",
        "q,x = features.shape\n",
        "print(trainFeatures.shape, testFeatures.shape, trainLabels.shape, testLabels.shape)\n",
        "print(x)\n",
        "\n",
        "model = models.Sequential([\n",
        "                           layers.BatchNormalization(),\n",
        "                           layers.Conv1D(filters=16, kernel_size=3, activation ='relu',input_shape=(x,1)),\n",
        "                           #PrintShape(),\n",
        "                           layers.BatchNormalization(),\n",
        "                           layers.Conv1D(filters=16, kernel_size=2, activation='relu'),\n",
        "                           #PrintShape(),\n",
        "                           layers.BatchNormalization(),\n",
        "                           layers.Conv1D(filters=16, kernel_size=2, activation='relu'),\n",
        "                           #PrintShape(),\n",
        "                           layers.BatchNormalization(),\n",
        "                           layers.Conv1D(filters=32, kernel_size=2, activation='relu'),\n",
        "                           layers.BatchNormalization(),\n",
        "                           #PrintShape(),\n",
        "                           layers.LSTM(32,return_sequences=True),\n",
        "                           #PrintShape(),\n",
        "                           layers.LSTM(32,return_sequences=True),\n",
        "                           #PrintShape(),\n",
        "                           layers.LSTM(32),\n",
        "                           #PrintShape(),\n",
        "                           layers.Dense(64,activation='relu'),\n",
        "                           #PrintShape(),\n",
        "                           layers.Dense(1,activation='sigmoid')\n",
        "                           #PrintShape(),\n",
        "                           ])"
      ]
    },
    {
      "cell_type": "markdown",
      "metadata": {
        "id": "UXBpP1G6MTZ4"
      },
      "source": [
        "TRAIN CNN+LSTM"
      ]
    },
    {
      "cell_type": "code",
      "execution_count": 70,
      "metadata": {
        "id": "7-IxEh6QMTZ4",
        "outputId": "f5c6f659-c456-4870-a6c8-a7e0f01963dd"
      },
      "outputs": [
        {
          "name": "stdout",
          "output_type": "stream",
          "text": [
            "Epoch 1/10\n",
            "9/9 [==============================] - 7s 46ms/step - loss: 0.2475 - accuracy: 0.6546\n",
            "Epoch 2/10\n",
            "9/9 [==============================] - 0s 46ms/step - loss: 0.2341 - accuracy: 0.7556\n",
            "Epoch 3/10\n",
            "9/9 [==============================] - 0s 46ms/step - loss: 0.2002 - accuracy: 0.7889\n",
            "Epoch 4/10\n",
            "9/9 [==============================] - 0s 46ms/step - loss: 0.1490 - accuracy: 0.8312\n",
            "Epoch 5/10\n",
            "9/9 [==============================] - 0s 47ms/step - loss: 0.1231 - accuracy: 0.8501\n",
            "Epoch 6/10\n",
            "9/9 [==============================] - 0s 46ms/step - loss: 0.1163 - accuracy: 0.8561\n",
            "Epoch 7/10\n",
            "9/9 [==============================] - 0s 47ms/step - loss: 0.1126 - accuracy: 0.8589\n",
            "Epoch 8/10\n",
            "9/9 [==============================] - 0s 47ms/step - loss: 0.1104 - accuracy: 0.8625\n",
            "Epoch 9/10\n",
            "9/9 [==============================] - 0s 46ms/step - loss: 0.1089 - accuracy: 0.8639\n",
            "Epoch 10/10\n",
            "9/9 [==============================] - 0s 46ms/step - loss: 0.1079 - accuracy: 0.8654\n"
          ]
        }
      ],
      "source": [
        "model.compile(optimizer=AdamW(learning_rate=0.001,weight_decay=0.005),loss='mse', metrics=['accuracy'])\n",
        "history = model.fit(x=trainFeatures, y=trainLabels, batch_size=1000, verbose=1, epochs=10)"
      ]
    },
    {
      "cell_type": "markdown",
      "metadata": {
        "id": "6Nr0DqtaMTZ4"
      },
      "source": [
        "EVALUATE CNN+LSTM"
      ]
    },
    {
      "cell_type": "code",
      "execution_count": 71,
      "metadata": {
        "id": "iznB93PLMTZ4",
        "outputId": "9348e043-cce3-4c59-eb27-54aa1f05cb67"
      },
      "outputs": [
        {
          "name": "stdout",
          "output_type": "stream",
          "text": [
            "113/113 [==============================] - 1s 2ms/step - loss: 0.2167 - accuracy: 0.5863\n",
            "test loss, test accuracy [0.21667499840259552, 0.5862929821014404]\n",
            "113/113 [==============================] - 1s 2ms/step\n",
            "F1_Score: 0.3313543599257885\n",
            "113/113 [==============================] - 0s 2ms/step\n"
          ]
        },
        {
          "data": {
            "image/png": "[encoded data removed]",
            "text/plain": [
              "<Figure size 640x480 with 2 Axes>"
            ]
          },
          "metadata": {},
          "output_type": "display_data"
        }
      ],
      "source": [
        "results = model.evaluate(testFeatures,testLabels)\n",
        "print(\"test loss, test accuracy\", results)\n",
        "\n",
        "y_pred = tf.argmax(model.predict(testFeatures), axis=1)\n",
        "print(\"F1_Score:\",f1_score(testLabels, y_pred, average='macro'))\n",
        "\n",
        "confuse(testFeatures,testLabels,'Small Epoch CNN+LSTM')"
      ]
    }
  ],
  "metadata": {
    "colab": {
      "provenance": []
    },
    "kernelspec": {
      "display_name": "Python 3",
      "language": "python",
      "name": "python3"
    },
    "language_info": {
      "codemirror_mode": {
        "name": "ipython",
        "version": 3
      },
      "file_extension": ".py",
      "mimetype": "text/x-python",
      "name": "python",
      "nbconvert_exporter": "python",
      "pygments_lexer": "ipython3",
      "version": "3.8.0"
    }
  },
  "nbformat": 4,
  "nbformat_minor": 0
}
